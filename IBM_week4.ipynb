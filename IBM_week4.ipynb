{
 "cells": [
  {
   "cell_type": "markdown",
   "id": "c1a68661-dce0-4da7-bc64-59f4831b3ec4",
   "metadata": {},
   "source": [
    "<h1>My Jupyter Notebook on IBM Watson Studio<h1>"
   ]
  },
  {
   "cell_type": "markdown",
   "id": "40da2a04-bb4c-420a-a17e-65fce8b5c14f",
   "metadata": {},
   "source": [
    "<b>Daniel González Sánchez</b>"
   ]
  },
  {
   "cell_type": "markdown",
   "id": "c7cf0614-1185-4fa0-a70e-9afa50c5e944",
   "metadata": {},
   "source": [
    "Professor"
   ]
  },
  {
   "cell_type": "markdown",
   "id": "c29e96ca-d8f8-4e68-870d-e60749542f27",
   "metadata": {},
   "source": [
    "<i>I am interested in Data Science because I want to develop my work in a better way, since there are currently multiple data that we find in institutions. It is a course that will give me skills that differentiate me from others. </i>"
   ]
  },
  {
   "cell_type": "markdown",
   "id": "a90a16b9-8d24-4b56-ac6a-9c27ec87fbfb",
   "metadata": {},
   "source": [
    "<h3>The next cell shows the sum of the first ten natural numbers.</h3>"
   ]
  },
  {
   "cell_type": "code",
   "execution_count": 2,
   "id": "c365bddb-26f5-4636-8200-444614b2c436",
   "metadata": {},
   "outputs": [
    {
     "data": {
      "text/plain": [
       "55"
      ]
     },
     "execution_count": 2,
     "metadata": {},
     "output_type": "execute_result"
    }
   ],
   "source": [
    "1+2+3+4+5+6+7+8+9+10"
   ]
  },
  {
   "cell_type": "markdown",
   "id": "d98fef4e-9c99-453a-a415-a3ab1c78a687",
   "metadata": {},
   "source": [
    "---"
   ]
  },
  {
   "cell_type": "markdown",
   "id": "538d64c7-941c-4574-bfaf-6934eb876d39",
   "metadata": {},
   "source": [
    "<ul>\n",
    "<li>February 4th, 2022</li>\n",
    "<li>Quito</li>\n",
    "<li>Ecuador</li>\n",
    "</ul>"
   ]
  },
  {
   "cell_type": "markdown",
   "id": "9df90f82-9525-4292-99f4-e1eb383deb3c",
   "metadata": {},
   "source": [
    "<a href=\"https://www.youtube.com/channel/UCsJU5w71kckx_4OD-HwonXw\">Link to my YouTube canal.</a>"
   ]
  },
  {
   "cell_type": "markdown",
   "id": "77dd8f71-5769-4369-8e85-8abb282cea42",
   "metadata": {},
   "source": [
    "<hr>"
   ]
  },
  {
   "cell_type": "markdown",
   "id": "3776f862-3151-4e59-bfbc-be8925499a88",
   "metadata": {},
   "source": [
    "<table>\n",
    "  <tr>\n",
    "    <th>Company</th>\n",
    "    <th>Contact</th>\n",
    "    <th>Country</th>\n",
    "  </tr>\n",
    "  <tr>\n",
    "    <td>UDLA</td>\n",
    "    <td>Daniel GS</td>\n",
    "    <td>Ecuador</td>\n",
    "  </tr>\n",
    "</table>"
   ]
  },
  {
   "cell_type": "markdown",
   "id": "1ff10e82-46f3-47ac-aa05-e3a7757cb85a",
   "metadata": {},
   "source": [
    "<hr>"
   ]
  }
 ],
 "metadata": {
  "kernelspec": {
   "display_name": "Python 3 (ipykernel)",
   "language": "python",
   "name": "python3"
  },
  "language_info": {
   "codemirror_mode": {
    "name": "ipython",
    "version": 3
   },
   "file_extension": ".py",
   "mimetype": "text/x-python",
   "name": "python",
   "nbconvert_exporter": "python",
   "pygments_lexer": "ipython3",
   "version": "3.9.7"
  }
 },
 "nbformat": 4,
 "nbformat_minor": 5
}
